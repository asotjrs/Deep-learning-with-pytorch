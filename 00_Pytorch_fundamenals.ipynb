{
  "nbformat": 4,
  "nbformat_minor": 0,
  "metadata": {
    "colab": {
      "provenance": []
    },
    "kernelspec": {
      "name": "python3",
      "display_name": "Python 3"
    },
    "language_info": {
      "name": "python"
    },
    "gpuClass": "standard",
    "accelerator": "TPU"
  },
  "cells": [
    {
      "cell_type": "code",
      "source": [
        "import torch"
      ],
      "metadata": {
        "id": "P-LIykhSfLk8"
      },
      "execution_count": null,
      "outputs": []
    },
    {
      "cell_type": "code",
      "source": [
        "float_32_tensor=torch.tensor([3.,6.,9.],\n",
        "                             dtype=None,\n",
        "                             device=None,\n",
        "                             requires_grad=False)\n",
        "float_32_tensor.dtype"
      ],
      "metadata": {
        "colab": {
          "base_uri": "https://localhost:8080/"
        },
        "id": "VoSGtSPJsd8B",
        "outputId": "f2e724fe-13cf-4b45-dd44-a29fa4efb65b"
      },
      "execution_count": null,
      "outputs": [
        {
          "output_type": "execute_result",
          "data": {
            "text/plain": [
              "torch.float32"
            ]
          },
          "metadata": {},
          "execution_count": 32
        }
      ]
    },
    {
      "cell_type": "code",
      "source": [
        "float_16_tensor=float_32_tensor.type(torch.float16)\n",
        "float_16_tensor"
      ],
      "metadata": {
        "colab": {
          "base_uri": "https://localhost:8080/"
        },
        "id": "oPq_Y3T1vwof",
        "outputId": "2db2a4c7-448b-4f9c-f5fa-ee9397bd6eb7"
      },
      "execution_count": null,
      "outputs": [
        {
          "output_type": "execute_result",
          "data": {
            "text/plain": [
              "tensor([3., 6., 9.], dtype=torch.float16)"
            ]
          },
          "metadata": {},
          "execution_count": 28
        }
      ]
    },
    {
      "cell_type": "code",
      "source": [
        "float_16_tensor * float_32_tensor"
      ],
      "metadata": {
        "colab": {
          "base_uri": "https://localhost:8080/"
        },
        "id": "h9v1c2tlwTv-",
        "outputId": "65d05789-fd10-402b-cecd-3fbbe64bf0a9"
      },
      "execution_count": null,
      "outputs": [
        {
          "output_type": "execute_result",
          "data": {
            "text/plain": [
              "tensor([ 9., 36., 81.])"
            ]
          },
          "metadata": {},
          "execution_count": 31
        }
      ]
    },
    {
      "cell_type": "code",
      "source": [
        "some_tensor=torch.rand([3,4])\n",
        "some_tensor"
      ],
      "metadata": {
        "colab": {
          "base_uri": "https://localhost:8080/"
        },
        "id": "25XFnMCv0wOR",
        "outputId": "ac6a5d40-055a-4ba8-db03-f10022277f22"
      },
      "execution_count": null,
      "outputs": [
        {
          "output_type": "execute_result",
          "data": {
            "text/plain": [
              "tensor([[0.0052, 0.4254, 0.3876, 0.7982],\n",
              "        [0.1772, 0.2895, 0.0721, 0.9799],\n",
              "        [0.0754, 0.1059, 0.2910, 0.2947]])"
            ]
          },
          "metadata": {},
          "execution_count": 2
        }
      ]
    },
    {
      "cell_type": "code",
      "source": [
        "print(f\"the tensor dype is {some_tensor.dtype}\")\n",
        "print(f\"the dimention is {some_tensor.shape}\")\n",
        "print(f\"the device this tensor running on is{some_tensor.device}\")"
      ],
      "metadata": {
        "colab": {
          "base_uri": "https://localhost:8080/"
        },
        "id": "T2tW4SW51KM3",
        "outputId": "601bd066-e226-4c27-abd0-0bc09915bf3a"
      },
      "execution_count": null,
      "outputs": [
        {
          "output_type": "stream",
          "name": "stdout",
          "text": [
            "the tensor dype is torch.float32\n",
            "the dimention is torch.Size([3, 4])\n",
            "the device this tensor running on iscpu\n"
          ]
        }
      ]
    },
    {
      "cell_type": "code",
      "source": [
        "mat1= torch.tensor([[1,2,3],\n",
        "                    [1,2,3]])"
      ],
      "metadata": {
        "id": "Wl0IsPoAmu9Z"
      },
      "execution_count": null,
      "outputs": []
    },
    {
      "cell_type": "code",
      "source": [
        "mat2=torch.tensor([[1,2],\n",
        "                   [3,4],\n",
        "                   [5,6]])"
      ],
      "metadata": {
        "id": "kFK_5O94nFff"
      },
      "execution_count": null,
      "outputs": []
    },
    {
      "cell_type": "code",
      "source": [
        "torch.matmul(mat1,mat2)"
      ],
      "metadata": {
        "colab": {
          "base_uri": "https://localhost:8080/"
        },
        "id": "9sijO5LCncSU",
        "outputId": "e662ffb2-1dda-4241-c20d-6b79bd26dc27"
      },
      "execution_count": null,
      "outputs": [
        {
          "output_type": "execute_result",
          "data": {
            "text/plain": [
              "tensor([[22, 28],\n",
              "        [22, 28]])"
            ]
          },
          "metadata": {},
          "execution_count": 5
        }
      ]
    },
    {
      "cell_type": "code",
      "source": [
        "mat1t=mat1.T\n",
        "mat1t"
      ],
      "metadata": {
        "colab": {
          "base_uri": "https://localhost:8080/"
        },
        "id": "H3PT4ZKfnh6U",
        "outputId": "ea130e51-09bc-4aec-e996-05171b690854"
      },
      "execution_count": null,
      "outputs": [
        {
          "output_type": "execute_result",
          "data": {
            "text/plain": [
              "tensor([[1, 1],\n",
              "        [2, 2],\n",
              "        [3, 3]])"
            ]
          },
          "metadata": {},
          "execution_count": 7
        }
      ]
    },
    {
      "cell_type": "code",
      "source": [
        "mat2t=mat2.T"
      ],
      "metadata": {
        "id": "p5V5Hz-5oNbi"
      },
      "execution_count": null,
      "outputs": []
    },
    {
      "cell_type": "code",
      "source": [
        "mat2t"
      ],
      "metadata": {
        "colab": {
          "base_uri": "https://localhost:8080/"
        },
        "id": "x37D33Gvocy5",
        "outputId": "05f53e9f-16d4-44e8-f79c-36068b13d769"
      },
      "execution_count": null,
      "outputs": [
        {
          "output_type": "execute_result",
          "data": {
            "text/plain": [
              "tensor([[1, 3, 5],\n",
              "        [2, 4, 6]])"
            ]
          },
          "metadata": {},
          "execution_count": 9
        }
      ]
    },
    {
      "cell_type": "code",
      "source": [
        " x = torch.randn(4, 4)\n",
        " x"
      ],
      "metadata": {
        "id": "d5hrttDyogIZ",
        "colab": {
          "base_uri": "https://localhost:8080/"
        },
        "outputId": "e6bfb572-a599-4d0a-e727-5d24dfe4f11a"
      },
      "execution_count": null,
      "outputs": [
        {
          "output_type": "execute_result",
          "data": {
            "text/plain": [
              "tensor([[-0.1372, -1.0987, -0.6342,  0.1902],\n",
              "        [-0.1099,  0.2230,  0.8589,  0.3512],\n",
              "        [ 0.8776, -0.7933, -1.1775, -1.3504],\n",
              "        [ 1.3751, -2.1801, -0.0644, -1.4259]])"
            ]
          },
          "metadata": {},
          "execution_count": 4
        }
      ]
    },
    {
      "cell_type": "code",
      "source": [
        "x.size()"
      ],
      "metadata": {
        "colab": {
          "base_uri": "https://localhost:8080/"
        },
        "id": "QtE0YHvHIVV6",
        "outputId": "61af4152-d114-4521-e0f7-ae8a036c6ba5"
      },
      "execution_count": null,
      "outputs": [
        {
          "output_type": "execute_result",
          "data": {
            "text/plain": [
              "torch.Size([4, 4])"
            ]
          },
          "metadata": {},
          "execution_count": 5
        }
      ]
    },
    {
      "cell_type": "code",
      "source": [
        "y = x.view(16)\n",
        "y"
      ],
      "metadata": {
        "colab": {
          "base_uri": "https://localhost:8080/"
        },
        "id": "hqLY5IQEIa3L",
        "outputId": "669e4ba6-8fb8-433a-87fd-327ee3148463"
      },
      "execution_count": null,
      "outputs": [
        {
          "output_type": "execute_result",
          "data": {
            "text/plain": [
              "tensor([-0.1372, -1.0987, -0.6342,  0.1902, -0.1099,  0.2230,  0.8589,  0.3512,\n",
              "         0.8776, -0.7933, -1.1775, -1.3504,  1.3751, -2.1801, -0.0644, -1.4259])"
            ]
          },
          "metadata": {},
          "execution_count": 6
        }
      ]
    },
    {
      "cell_type": "code",
      "source": [
        "y.size()"
      ],
      "metadata": {
        "colab": {
          "base_uri": "https://localhost:8080/"
        },
        "id": "817_faUIIn0s",
        "outputId": "1e594fc3-0c1c-4e77-f167-15cf53c15aeb"
      },
      "execution_count": null,
      "outputs": [
        {
          "output_type": "execute_result",
          "data": {
            "text/plain": [
              "torch.Size([16])"
            ]
          },
          "metadata": {},
          "execution_count": 7
        }
      ]
    },
    {
      "cell_type": "code",
      "source": [
        " z = x.view(-1, 8)\n",
        " z,z.size()"
      ],
      "metadata": {
        "colab": {
          "base_uri": "https://localhost:8080/"
        },
        "id": "wXz7uw-4JCER",
        "outputId": "f06f2df8-42cd-477b-9a86-79bdc42ec707"
      },
      "execution_count": null,
      "outputs": [
        {
          "output_type": "execute_result",
          "data": {
            "text/plain": [
              "(tensor([[-0.1372, -1.0987, -0.6342,  0.1902, -0.1099,  0.2230,  0.8589,  0.3512],\n",
              "         [ 0.8776, -0.7933, -1.1775, -1.3504,  1.3751, -2.1801, -0.0644, -1.4259]]),\n",
              " torch.Size([2, 8]))"
            ]
          },
          "metadata": {},
          "execution_count": 11
        }
      ]
    },
    {
      "cell_type": "code",
      "source": [
        "t=x.view(2,8)\n",
        "t"
      ],
      "metadata": {
        "colab": {
          "base_uri": "https://localhost:8080/"
        },
        "id": "ffMk82YNJMUr",
        "outputId": "131611cf-0577-4d25-edce-fdcbad432bdd"
      },
      "execution_count": null,
      "outputs": [
        {
          "output_type": "execute_result",
          "data": {
            "text/plain": [
              "tensor([[-0.1372, -1.0987, -0.6342,  0.1902, -0.1099,  0.2230,  0.8589,  0.3512],\n",
              "        [ 0.8776, -0.7933, -1.1775, -1.3504,  1.3751, -2.1801, -0.0644, -1.4259]])"
            ]
          },
          "metadata": {},
          "execution_count": 16
        }
      ]
    },
    {
      "cell_type": "code",
      "source": [
        "a = torch.randn(1, 2, 3, 4)"
      ],
      "metadata": {
        "id": "lpFh9B9VGbJM"
      },
      "execution_count": null,
      "outputs": []
    },
    {
      "cell_type": "code",
      "source": [
        "a"
      ],
      "metadata": {
        "colab": {
          "base_uri": "https://localhost:8080/"
        },
        "id": "lxbe0sJlGc2w",
        "outputId": "6c052844-f654-4667-dd08-d20d514c9006"
      },
      "execution_count": null,
      "outputs": [
        {
          "output_type": "execute_result",
          "data": {
            "text/plain": [
              "tensor([[[[ 0.3020,  0.2063, -0.3595,  1.0430],\n",
              "          [ 0.6038,  0.0089, -0.7593,  0.4252],\n",
              "          [ 0.5381,  0.1028,  1.7040,  1.0963]],\n",
              "\n",
              "         [[-1.0787, -0.2112, -0.4321,  1.4533],\n",
              "          [ 0.4972,  0.1868,  2.1881, -0.3930],\n",
              "          [ 0.4174,  0.6285,  0.3204, -1.0021]]]])"
            ]
          },
          "metadata": {},
          "execution_count": 18
        }
      ]
    },
    {
      "cell_type": "code",
      "source": [
        "b = a.transpose(1, 2) "
      ],
      "metadata": {
        "id": "_XiQ4GytIAbD"
      },
      "execution_count": null,
      "outputs": []
    },
    {
      "cell_type": "code",
      "source": [
        "b"
      ],
      "metadata": {
        "colab": {
          "base_uri": "https://localhost:8080/"
        },
        "id": "afo7q32nIBjL",
        "outputId": "4ba7f629-345d-4855-eb8c-a288d5e7650d"
      },
      "execution_count": null,
      "outputs": [
        {
          "output_type": "execute_result",
          "data": {
            "text/plain": [
              "tensor([[[[ 0.3020,  0.2063, -0.3595,  1.0430],\n",
              "          [-1.0787, -0.2112, -0.4321,  1.4533]],\n",
              "\n",
              "         [[ 0.6038,  0.0089, -0.7593,  0.4252],\n",
              "          [ 0.4972,  0.1868,  2.1881, -0.3930]],\n",
              "\n",
              "         [[ 0.5381,  0.1028,  1.7040,  1.0963],\n",
              "          [ 0.4174,  0.6285,  0.3204, -1.0021]]]])"
            ]
          },
          "metadata": {},
          "execution_count": 20
        }
      ]
    },
    {
      "cell_type": "code",
      "source": [
        "b.size()"
      ],
      "metadata": {
        "colab": {
          "base_uri": "https://localhost:8080/"
        },
        "id": "k4vJRBYxIQIa",
        "outputId": "c06fec66-f957-461e-c0f4-4186c4a63d01"
      },
      "execution_count": null,
      "outputs": [
        {
          "output_type": "execute_result",
          "data": {
            "text/plain": [
              "torch.Size([1, 3, 2, 4])"
            ]
          },
          "metadata": {},
          "execution_count": 21
        }
      ]
    },
    {
      "cell_type": "code",
      "source": [
        "torch.tensor([2,2,3,4])"
      ],
      "metadata": {
        "colab": {
          "base_uri": "https://localhost:8080/"
        },
        "id": "IvVnAdnoJZTN",
        "outputId": "4961b065-ad91-4c72-a781-beb3662d7ac0"
      },
      "execution_count": null,
      "outputs": [
        {
          "output_type": "execute_result",
          "data": {
            "text/plain": [
              "tensor([2, 2, 3, 4])"
            ]
          },
          "metadata": {},
          "execution_count": 22
        }
      ]
    },
    {
      "cell_type": "code",
      "source": [
        "\n",
        "a = torch.randn(2,2, 2, 3, 4)\n"
      ],
      "metadata": {
        "id": "E4OJAEaKKsCS"
      },
      "execution_count": null,
      "outputs": []
    },
    {
      "cell_type": "code",
      "source": [
        "a"
      ],
      "metadata": {
        "colab": {
          "base_uri": "https://localhost:8080/"
        },
        "id": "PfM1VgclKwNL",
        "outputId": "5549e392-04ba-4f4e-9808-2a295904e72a"
      },
      "execution_count": null,
      "outputs": [
        {
          "output_type": "execute_result",
          "data": {
            "text/plain": [
              "tensor([[[[[ 0.9976,  0.4327,  0.6513,  0.7918],\n",
              "           [-1.7408,  0.1347,  0.9163, -0.3162],\n",
              "           [ 2.6191, -2.5615, -1.1701, -2.0572]],\n",
              "\n",
              "          [[-0.7559,  0.5594, -1.2724, -0.7931],\n",
              "           [-1.6668, -0.3620, -0.8167,  0.6924],\n",
              "           [ 0.2217,  0.2512,  0.8091,  1.2571]]],\n",
              "\n",
              "\n",
              "         [[[ 2.0259, -0.7688,  0.9371, -0.3378],\n",
              "           [-0.8037, -0.0850,  1.1457,  0.2119],\n",
              "           [ 0.2395,  0.0861,  2.1299, -1.1529]],\n",
              "\n",
              "          [[ 1.2497,  1.0408,  0.3726,  0.6585],\n",
              "           [-0.4722,  0.1670,  0.3307,  0.2021],\n",
              "           [-0.1970,  0.9722, -0.1382, -2.4629]]]],\n",
              "\n",
              "\n",
              "\n",
              "        [[[[ 1.7692, -1.7638,  0.6609, -1.0238],\n",
              "           [-0.5465,  0.6663,  1.2872,  1.5365],\n",
              "           [ 0.7798, -0.8014,  2.3732,  0.4241]],\n",
              "\n",
              "          [[-0.7378,  1.5862, -1.1529, -0.7888],\n",
              "           [-0.4243,  0.2717, -1.8456,  0.8478],\n",
              "           [ 0.3460,  1.2868,  0.5066, -0.5059]]],\n",
              "\n",
              "\n",
              "         [[[-0.5347, -3.0140, -1.5322, -0.1490],\n",
              "           [ 1.9617, -0.4606, -0.6249, -1.6111],\n",
              "           [-0.3563, -0.0748,  1.3129, -0.7280]],\n",
              "\n",
              "          [[-1.1349, -0.1263, -0.8187,  0.8701],\n",
              "           [-1.9294, -0.7242, -0.8901,  0.0469],\n",
              "           [ 0.2100, -0.9694,  0.1534, -0.8517]]]]])"
            ]
          },
          "metadata": {},
          "execution_count": 28
        }
      ]
    }
  ]
}